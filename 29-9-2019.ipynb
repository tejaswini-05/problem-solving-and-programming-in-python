{
 "cells": [
  {
   "cell_type": "markdown",
   "metadata": {},
   "source": [
    "### File handling\n",
    "* open\n",
    "* read\n",
    "* write\n",
    "* append\n",
    "* close\n",
    "* tell\n",
    "* seek"
   ]
  },
  {
   "cell_type": "code",
   "execution_count": 10,
   "metadata": {},
   "outputs": [
    {
     "name": "stdout",
     "output_type": "stream",
     "text": [
      "sri padmavathi mahila visvavidyalayam\n",
      "womens university\n",
      "tirupati\n"
     ]
    }
   ],
   "source": [
    "f=open(\"sampledata.txt\",\"r\")\n",
    "data=f.read()\n",
    "print(data)\n",
    "f.close()"
   ]
  },
  {
   "cell_type": "markdown",
   "metadata": {},
   "source": [
    "* method2"
   ]
  },
  {
   "cell_type": "code",
   "execution_count": 11,
   "metadata": {},
   "outputs": [
    {
     "name": "stdout",
     "output_type": "stream",
     "text": [
      "sri padmavathi mahila visvavidyalayam\n",
      "womens university\n",
      "tirupati\n"
     ]
    }
   ],
   "source": [
    "with open(\"sampledata.txt\",\"r\") as f:\n",
    "    data=f.read()\n",
    "    print(data)"
   ]
  },
  {
   "cell_type": "code",
   "execution_count": 21,
   "metadata": {},
   "outputs": [
    {
     "name": "stdout",
     "output_type": "stream",
     "text": [
      "sampledata.txt\n",
      "sri padmavathi mahila visvavidyalayam\n",
      "womens university\n",
      "tirupati\n"
     ]
    }
   ],
   "source": [
    "def fun(file):\n",
    "    with open(file,\"r\") as f:\n",
    "        data=f.read()\n",
    "    print(data)\n",
    "fun(input())"
   ]
  },
  {
   "cell_type": "code",
   "execution_count": 23,
   "metadata": {},
   "outputs": [],
   "source": [
    "def fun(file):\n",
    "    with open(file,\"r\") as f:\n",
    "        data=f.read()\n",
    "    return data"
   ]
  },
  {
   "cell_type": "code",
   "execution_count": 24,
   "metadata": {},
   "outputs": [
    {
     "name": "stdout",
     "output_type": "stream",
     "text": [
      "sampledata.txt\n",
      "Sri padmavathi mahila visvavidyalayam\n",
      "womens university\n",
      "tirupati\n"
     ]
    }
   ],
   "source": [
    "print(fun(input()).capitalize())"
   ]
  },
  {
   "cell_type": "code",
   "execution_count": 26,
   "metadata": {},
   "outputs": [
    {
     "name": "stdout",
     "output_type": "stream",
     "text": [
      "hai tejaswini pallamreddy\n"
     ]
    }
   ],
   "source": [
    "with open(\"text.txt\",\"w\") as f:\n",
    "    f.write(input())"
   ]
  },
  {
   "cell_type": "code",
   "execution_count": 13,
   "metadata": {},
   "outputs": [
    {
     "name": "stdout",
     "output_type": "stream",
     "text": [
      "text.txt\n",
      "3\n",
      "details\n",
      "8\n",
      "tejaswini pallamreddy\n",
      "22\n",
      "btech ece\n",
      "10\n"
     ]
    }
   ],
   "source": [
    "def ninput(filetxt):\n",
    "    n=int(input())\n",
    "    for  i in range(n):\n",
    "        with open(filetxt,\"a\") as f:\n",
    "             print(f.write(input()+\"\\n\"))\n",
    "ninput(input())"
   ]
  },
  {
   "cell_type": "code",
   "execution_count": 14,
   "metadata": {},
   "outputs": [
    {
     "name": "stdout",
     "output_type": "stream",
     "text": [
      "details\n",
      "\n",
      "details\n",
      "\n",
      "tejaswini pallamreddy\n",
      "\n",
      "btech ece\n",
      "\n"
     ]
    }
   ],
   "source": [
    "with open(\"text.txt\") as f:\n",
    "    data=f.readlines()\n",
    "    for i in data:\n",
    "        print(i)"
   ]
  },
  {
   "cell_type": "code",
   "execution_count": 1,
   "metadata": {},
   "outputs": [
    {
     "name": "stdout",
     "output_type": "stream",
     "text": [
      "e\n",
      "character count 1\n",
      "line count 8\n",
      "details\n",
      "character count 1\n",
      "line count 22\n",
      "i\n",
      "character count 2\n",
      "line count 10\n",
      "a\n",
      "character count 0\n",
      "word count 48\n",
      "tejaswini\n",
      "unique word count 0\n"
     ]
    }
   ],
   "source": [
    "with open(\"text.txt\") as f:\n",
    "    c=0\n",
    "    data=f.readlines()\n",
    "    for i in data:\n",
    "        l=len(i)\n",
    "        print(\"line count\",l)\n",
    "        print(\"character count\",i.count(input()))\n",
    "        c=c+l\n",
    "    print(\"word count\",c)\n",
    "    print(\"unique word count\",data.count(input()))\n"
   ]
  },
  {
   "cell_type": "code",
   "execution_count": 22,
   "metadata": {},
   "outputs": [
    {
     "data": {
      "text/plain": [
       "52"
      ]
     },
     "execution_count": 22,
     "metadata": {},
     "output_type": "execute_result"
    }
   ],
   "source": [
    "import os\n",
    "n=os.stat(\"text.txt\")\n",
    "n.st_size"
   ]
  },
  {
   "cell_type": "code",
   "execution_count": 23,
   "metadata": {},
   "outputs": [
    {
     "name": "stdout",
     "output_type": "stream",
     "text": [
      "52\n"
     ]
    }
   ],
   "source": [
    "with open(\"text.txt\",\"r\") as f:\n",
    "    data=f.read()\n",
    "    print(f.tell())      # specifies curser position in text file"
   ]
  },
  {
   "cell_type": "code",
   "execution_count": 24,
   "metadata": {},
   "outputs": [
    {
     "name": "stdout",
     "output_type": "stream",
     "text": [
      "details\n",
      "details\n",
      "tejaswini pallamreddy\n",
      "btech ece\n",
      "\n"
     ]
    }
   ],
   "source": [
    "with open(\"text.txt\",\"r\") as f:\n",
    "    data=f.read()\n",
    "    f.seek(0)           # from seek position\n",
    "    print(f.read(100))"
   ]
  },
  {
   "cell_type": "code",
   "execution_count": 25,
   "metadata": {},
   "outputs": [
    {
     "name": "stdout",
     "output_type": "stream",
     "text": [
      "details\n",
      "de\n"
     ]
    }
   ],
   "source": [
    "with open(\"text.txt\",\"r\") as f:\n",
    "    data=f.read()\n",
    "    f.seek(0)           # from seek position\n",
    "    print(f.read(10))"
   ]
  },
  {
   "cell_type": "code",
   "execution_count": 26,
   "metadata": {},
   "outputs": [],
   "source": [
    "file=\"contacts_data.txt\"\n",
    "def newcontact(name,contact):\n",
    "    fh=open(file,'a')\n",
    "    fh.write(name+\" \"+str(contact)+\"\\n\")\n",
    "    fh.close()\n",
    "    return 'contact saved'"
   ]
  },
  {
   "cell_type": "code",
   "execution_count": 27,
   "metadata": {},
   "outputs": [
    {
     "data": {
      "text/plain": [
       "'contact saved'"
      ]
     },
     "execution_count": 27,
     "metadata": {},
     "output_type": "execute_result"
    }
   ],
   "source": [
    "newcontact(\"alekhya\",7894123347)\n",
    "newcontact(\"gireesha\",9784372312)"
   ]
  },
  {
   "cell_type": "code",
   "execution_count": 28,
   "metadata": {},
   "outputs": [
    {
     "name": "stdout",
     "output_type": "stream",
     "text": [
      "7894123347\n"
     ]
    }
   ],
   "source": [
    "def readcontact(name):\n",
    "    fh=open(file)\n",
    "    lines=fh.readlines()\n",
    "    for line in lines:\n",
    "        words=line.split()\n",
    "        contact_name=words[0]\n",
    "        contact=words[1]\n",
    "        if name==contact_name:\n",
    "            print(contact)\n",
    "            break\n",
    "readcontact(\"alekhya\")"
   ]
  },
  {
   "cell_type": "code",
   "execution_count": 31,
   "metadata": {},
   "outputs": [
    {
     "name": "stdout",
     "output_type": "stream",
     "text": [
      "contact_name\n",
      "alekhya 7894123347\n",
      "gireesha 9784372312\n",
      "\n",
      "\n"
     ]
    }
   ],
   "source": [
    "def readcontact(name):\n",
    "    fh=open(file)\n",
    "    lines=fh.readlines()\n",
    "    fh.seek(0)\n",
    "    print(fh.read(100))\n",
    "readcontact(input())"
   ]
  },
  {
   "cell_type": "code",
   "execution_count": 92,
   "metadata": {},
   "outputs": [],
   "source": [
    "from random import randint\n",
    "with open(\"marks.txt\",\"w\") as mf:\n",
    "    for i in range(1000):\n",
    "        mf.write(str(randint(1,100))+\"\\n\")"
   ]
  },
  {
   "cell_type": "code",
   "execution_count": 48,
   "metadata": {},
   "outputs": [],
   "source": [
    "# write afunction to calculate highest marks from marks.txt file\n",
    "# avg\n",
    "# pass %\n",
    "# fail %\n",
    "# distinction %"
   ]
  },
  {
   "cell_type": "code",
   "execution_count": 152,
   "metadata": {},
   "outputs": [],
   "source": [
    "def classreport(file):\n",
    "    mf=open(file)\n",
    "    data=mf.read().split()\n",
    "    l=list(map(int,data))\n",
    "    avg=sum(l)/len(l)\n",
    "    print(\"average:\",avg)\n",
    "    print(\"max:\",max(l))\n",
    "    f=0\n",
    "    p=0\n",
    "    d=0\n",
    "    for el in l:\n",
    "        if el>=35:\n",
    "            p=p+1\n",
    "        elif el<35:\n",
    "            f=f+1    \n",
    "        if el>=75:\n",
    "            d=d+1\n",
    "    print(\"pass%:\",(p/len(l))*1000)\n",
    "    print(\"fail%:\",(f/len(l))*1000)\n",
    "    print(\"distinction%:\",(d/len(l))*1000)"
   ]
  },
  {
   "cell_type": "code",
   "execution_count": 153,
   "metadata": {},
   "outputs": [
    {
     "name": "stdout",
     "output_type": "stream",
     "text": [
      "average: 50.544\n",
      "max: 100\n",
      "pass%: 660.0\n",
      "fail%: 340.0\n",
      "distinction%: 261.0\n"
     ]
    }
   ],
   "source": [
    "classreport(\"marks.txt\")"
   ]
  },
  {
   "cell_type": "code",
   "execution_count": null,
   "metadata": {},
   "outputs": [],
   "source": []
  }
 ],
 "metadata": {
  "kernelspec": {
   "display_name": "Python 3",
   "language": "python",
   "name": "python3"
  },
  "language_info": {
   "codemirror_mode": {
    "name": "ipython",
    "version": 3
   },
   "file_extension": ".py",
   "mimetype": "text/x-python",
   "name": "python",
   "nbconvert_exporter": "python",
   "pygments_lexer": "ipython3",
   "version": "3.7.3"
  }
 },
 "nbformat": 4,
 "nbformat_minor": 2
}
